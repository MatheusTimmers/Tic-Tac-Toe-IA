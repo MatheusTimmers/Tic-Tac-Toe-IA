{
 "cells": [
  {
   "cell_type": "code",
   "execution_count": 2,
   "metadata": {},
   "outputs": [],
   "source": [
    "import numpy as np\n",
    "import pandas as pd\n",
    "from sklearn.neighbors import KNeighborsClassifier\n",
    "from sklearn.model_selection import train_test_split\n",
    "from sklearn.metrics import confusion_matrix\n",
    "from sklearn.metrics import accuracy_score\n",
    "from sklearn.metrics import classification_report\n",
    "import matplotlib.pyplot as plt\n",
    "from shared import *"
   ]
  },
  {
   "cell_type": "code",
   "execution_count": 3,
   "metadata": {},
   "outputs": [],
   "source": [
    "data = pd.read_csv('data/tic-tac-toe-mat.data', header=None)\n",
    "parsed_data = data.apply(parse_line, axis=1)\n",
    "\n",
    "X = parsed_data.iloc[:, :9]\n",
    "Y = parsed_data.iloc[:, 9]"
   ]
  },
  {
   "cell_type": "markdown",
   "metadata": {},
   "source": [
    "012\n",
    "345\n",
    "678"
   ]
  },
  {
   "cell_type": "code",
   "execution_count": 6,
   "metadata": {},
   "outputs": [],
   "source": [
    "def check_winner(row):\n",
    "    # Verificar linhas\n",
    "    for i in range(0, 3, 6):\n",
    "        if row[i] == row[i+1] == row[i+2] and row[i] != '0':\n",
    "            return row[i]\n",
    "\n",
    "    # Verificar colunas\n",
    "    for i in range(3):\n",
    "        if row[i] == row[i+3] == row[i+6] and row[i] != '0':\n",
    "            return row[i]\n",
    "\n",
    "    # Verificar diagonais\n",
    "    if row[0] == row[4] == row[8] and row[0] != '0':  # Diagonal principal\n",
    "        return row[0]\n",
    "    if row[2] == row[4] == row[6] and row[2] != '0':  # Diagonal secundária\n",
    "        return row[2]\n",
    "\n",
    "    if '0' in row.values:\n",
    "        return 'Incompleto'\n",
    "    else:\n",
    "        return 'Empate'"
   ]
  },
  {
   "cell_type": "code",
   "execution_count": 7,
   "metadata": {},
   "outputs": [
    {
     "data": {
      "text/html": [
       "<div>\n",
       "<style scoped>\n",
       "    .dataframe tbody tr th:only-of-type {\n",
       "        vertical-align: middle;\n",
       "    }\n",
       "\n",
       "    .dataframe tbody tr th {\n",
       "        vertical-align: top;\n",
       "    }\n",
       "\n",
       "    .dataframe thead th {\n",
       "        text-align: right;\n",
       "    }\n",
       "</style>\n",
       "<table border=\"1\" class=\"dataframe\">\n",
       "  <thead>\n",
       "    <tr style=\"text-align: right;\">\n",
       "      <th>col_0</th>\n",
       "      <th>count</th>\n",
       "    </tr>\n",
       "    <tr>\n",
       "      <th>row_0</th>\n",
       "      <th></th>\n",
       "    </tr>\n",
       "  </thead>\n",
       "  <tbody>\n",
       "    <tr>\n",
       "      <th>-1</th>\n",
       "      <td>99</td>\n",
       "    </tr>\n",
       "    <tr>\n",
       "      <th>0</th>\n",
       "      <td>17</td>\n",
       "    </tr>\n",
       "    <tr>\n",
       "      <th>1</th>\n",
       "      <td>120</td>\n",
       "    </tr>\n",
       "    <tr>\n",
       "      <th>Empate</th>\n",
       "      <td>164</td>\n",
       "    </tr>\n",
       "  </tbody>\n",
       "</table>\n",
       "</div>"
      ],
      "text/plain": [
       "col_0   count\n",
       "row_0        \n",
       "-1         99\n",
       "0          17\n",
       "1         120\n",
       "Empate    164"
      ]
     },
     "execution_count": 7,
     "metadata": {},
     "output_type": "execute_result"
    }
   ],
   "source": [
    "teste = X.apply(check_winner, axis=1)\n",
    "\n",
    "count_scenarios = pd.crosstab(index=teste, columns=\"count\")\n",
    "count_scenarios"
   ]
  }
 ],
 "metadata": {
  "kernelspec": {
   "display_name": ".venv",
   "language": "python",
   "name": "python3"
  },
  "language_info": {
   "codemirror_mode": {
    "name": "ipython",
    "version": 3
   },
   "file_extension": ".py",
   "mimetype": "text/x-python",
   "name": "python",
   "nbconvert_exporter": "python",
   "pygments_lexer": "ipython3",
   "version": "3.12.3"
  }
 },
 "nbformat": 4,
 "nbformat_minor": 2
}
